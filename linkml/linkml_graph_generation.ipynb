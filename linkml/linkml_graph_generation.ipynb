{
 "cells": [
  {
   "cell_type": "code",
   "execution_count": 25,
   "metadata": {},
   "outputs": [],
   "source": [
    "import yaml\n",
    "from linkml.generators import shaclgen, owlgen\n",
    "from linkml.validator import validate\n",
    "\n",
    "from rdflib.extras.external_graph_libs import rdflib_to_networkx_multidigraph\n",
    "import networkx as nx\n",
    "import matplotlib.pyplot as plt\n",
    "import pandas as pd\n",
    "import requests\n",
    "\n",
    "from neo4j import GraphDatabase\n",
    "import hashlib"
   ]
  },
  {
   "cell_type": "code",
   "execution_count": 26,
   "metadata": {},
   "outputs": [],
   "source": [
    "def generate_said(data):\n",
    "    data_string = str(data).encode()\n",
    "    hash_object = hashlib.sha256()\n",
    "    hash_object.update(data_string)\n",
    "    return hash_object.hexdigest()"
   ]
  },
  {
   "cell_type": "code",
   "execution_count": 8,
   "metadata": {},
   "outputs": [
    {
     "name": "stderr",
     "output_type": "stream",
     "text": [
      "WARNING:root:File \"<file>\", line 1, col 757: Unrecognized prefix: dbpedia-owl\n",
      "WARNING:root:File \"<file>\", line 1, col 1434: Unrecognized prefix: ngeo\n"
     ]
    },
    {
     "name": "stdout",
     "output_type": "stream",
     "text": [
      "# metamodel_version: 1.7.0\n"
     ]
    }
   ],
   "source": [
    "with open('/Users/maximilianstaebler/code/DLR/GX4FM-Base-X/SemanticDataLink/linkml/yaml/verkerhszaehlung_hamburg.yaml', 'r') as file:\n",
    "    input_yaml = yaml.safe_load(file)\n",
    "\n",
    "shaclGraph = shaclgen.ShaclGenerator(str(input_yaml)).as_graph()\n",
    "owlGraph = owlgen.OwlSchemaGenerator(str(input_yaml)).as_graph()\n",
    "\n",
    "# print(shaclGraph.serialize())\n",
    "# print(owlGraph.serialize())"
   ]
  },
  {
   "cell_type": "markdown",
   "metadata": {},
   "source": [
    "# Neo4j\n",
    "\n",
    "```cypher\n",
    "    query = f\"\"\"\n",
    "        MERGE (n:`{label}` {{{properties_string}}})\n",
    "        RETURN n\n",
    "    \"\"\"\n",
    "```\n",
    "\n",
    "Label will be used in neo4j to reference the different unique nodes. Therefore `label` should be used with a unique **uri**!"
   ]
  },
  {
   "cell_type": "code",
   "execution_count": 22,
   "metadata": {},
   "outputs": [
    {
     "name": "stdout",
     "output_type": "stream",
     "text": [
      "<__main__.Neo4jConnection object at 0x161729550>\n"
     ]
    }
   ],
   "source": [
    "from neo4j import GraphDatabase\n",
    "\n",
    "class Neo4jConnection:\n",
    "\n",
    "    def __init__(self, uri, user, pwd):\n",
    "        self.__uri = uri\n",
    "        self.__user = user\n",
    "        self.__password = pwd\n",
    "        self.__driver = None\n",
    "        try:\n",
    "            self.__driver = GraphDatabase.driver(self.__uri, auth=(self.__user, self.__password))\n",
    "        except Exception as e:\n",
    "            print(\"Failed to create the driver:\", e)\n",
    "    \n",
    "    def close(self):\n",
    "        if self.__driver is not None:\n",
    "            self.__driver.close()\n",
    "    \n",
    "    def query(self, query, parameters=None, db=None):\n",
    "        assert self.__driver is not None, \"Driver not initialized!\"\n",
    "        session = None\n",
    "        response = None\n",
    "        try:\n",
    "            session = self.__driver.session(database=db) if db is not None else self.__driver.session() \n",
    "            response = list(session.run(query, parameters))\n",
    "        except Exception as e:\n",
    "            print(\"Query failed:\", e)\n",
    "        finally:\n",
    "            if session is not None:\n",
    "                session.close()\n",
    "        return response\n",
    "\n",
    "conn = Neo4jConnection(uri=\"neo4j://localhost:7687\", user=\"neo4j\", pwd=\"mast#mast1\")\n",
    "print(conn)"
   ]
  },
  {
   "cell_type": "code",
   "execution_count": 67,
   "metadata": {},
   "outputs": [],
   "source": [
    "def add_node_if_not_exists(conn, label, said, node_type = 'dataset', additional_properties=None):\n",
    "    \n",
    "    if node_type not in ['dataset', 'service', 'infrastructure']:\n",
    "        return 'TypeError'\n",
    "    \n",
    "    # Using string formatting to insert the label dynamically\n",
    "    # MERGE is used only with label and node_id\n",
    "    merge_query = f\"\"\"\n",
    "    MERGE (n:`{node_type}` {{label: $label, said: $said}})\n",
    "    \"\"\"\n",
    "\n",
    "    # Building a query to set additional properties\n",
    "    # parameters = {'name': name, 'id': said, 'node_type': node_type}\n",
    "    set_properties_query = \"\"\n",
    "    if additional_properties:\n",
    "        set_properties_query = \" SET \" + \", \".join([f\"n.{key} = ${key}\" for key in additional_properties.keys()])\n",
    "        # parameters.update(additional_properties)\n",
    "\n",
    "    # Combining the queries\n",
    "    query = merge_query + set_properties_query + \" RETURN n\"\n",
    "\n",
    "    # Preparing parameters, including additional properties\n",
    "    parameters = {'label': label, 'said': said}\n",
    "    if additional_properties:\n",
    "        parameters.update(additional_properties)\n",
    "\n",
    "    result = conn.query(query, parameters)\n",
    "    return result\n",
    "\n",
    "def create_edges(conn, property_1, node_type_1, attr_1, property_2, node_type_2, attr_2, relationship_type):\n",
    "    query = f\"\"\"\n",
    "    MATCH (a:`{node_type_1}`), (b:`{node_type_2}`)\n",
    "    WHERE a.`{property_1}` = '{attr_1}' AND b.`{property_2}` = '{attr_2}'\n",
    "    MERGE (a)-[r:`{relationship_type}`]->(b)\n",
    "    RETURN a, b, r\n",
    "    \"\"\"\n",
    "    return conn.query(query)"
   ]
  },
  {
   "cell_type": "code",
   "execution_count": 41,
   "metadata": {},
   "outputs": [
    {
     "name": "stdout",
     "output_type": "stream",
     "text": [
      "id: https://base-x-ecosystem.com/dlr-ki/\n",
      "name: Verkehrszählstellen_Hamburg\n",
      "prefixes: {'linkml': 'https://w3id.org/linkml/', 'sdl': 'https://raw.githubusercontent.com/GX4FM-Base-X/SemanticDataLink/main/oca/overlays/sdlOntology.ttl#', 'wlo': 'http://purl.org/ontology/wo/name#', 'mv': 'http://schema.mobivoc.org/id#', 'swpo': 'http://sw-portal.deri.org/ontologies/swportal#', 'geom': 'http://data.ign.fr/def/geometrie#', 'dlr-ki': 'https://base-x-ecosystem.com/dlr-ki/'}\n",
      "Attributes: dict_keys(['bezeichnung', 'name', 'id', 'last_count', 'geom', 'position', 'location', 'CRS', 'overlay_domain', 'overlay_usageFrequency', 'overlay_information', 'overlay_standard', 'overlay_label'])\n",
      "Attribute Example: {'title': 'location', 'multivalued': False, 'identifier': False, 'required': True, 'range': 'string', 'slot_uri': 'swpo:hasLocation'}\n",
      "Overlay Example: {'title': 'standard', 'slot_uri': 'sdl:standard', 'range': 'string', 'multivalued': False, 'required': True, 'pattern': ''}\n",
      "enums: {'CRS_ENUM': {'permissible_values': {'EPSG4326': {'description': 'EPSG:4326, on the other hand, is essentially an identifier for WGS84. In simple terms, 4326 is the code that the European Petroleum Survey Group (EPSG) assigned to WGS84.'}}}}\n"
     ]
    }
   ],
   "source": [
    "print(f\"id: {input_yaml['id']}\")\n",
    "print(f\"name: {input_yaml['name']}\")\n",
    "print(f\"prefixes: {input_yaml['prefixes']}\")\n",
    "print(f\"Attributes: {input_yaml['classes']['Verkehrszählstellen_Hamburg']['attributes'].keys()}\")\n",
    "print(f\"Attribute Example: {input_yaml['classes']['Verkehrszählstellen_Hamburg']['attributes']['location']}\")\n",
    "print(f\"Overlay Example: {input_yaml['classes']['Verkehrszählstellen_Hamburg']['attributes']['overlay_standard']}\")\n",
    "print(f\"enums: {input_yaml['enums']}\")"
   ]
  },
  {
   "cell_type": "code",
   "execution_count": 42,
   "metadata": {},
   "outputs": [
    {
     "name": "stdout",
     "output_type": "stream",
     "text": [
      "40570d66060046e2660fe1390543b52619d1eba4e51d5967dd87a6ff33bd7c2d\n"
     ]
    }
   ],
   "source": [
    "dataset_service_said = generate_said(input_yaml)\n",
    "print(dataset_service_said)"
   ]
  },
  {
   "cell_type": "code",
   "execution_count": 68,
   "metadata": {},
   "outputs": [
    {
     "name": "stdout",
     "output_type": "stream",
     "text": [
      "[<Record n=<Node element_id='4:71d9652d-6ac3-4744-9806-13e6489abd58:0' labels=frozenset({'dataset'}) properties={'name': 'Verkehrszählstellen_Hamburg', 'label': 'https://base-x-ecosystem.com/dlr-ki/', 'said': '40570d66060046e2660fe1390543b52619d1eba4e51d5967dd87a6ff33bd7c2d'}>>]\n",
      "[<Record n=<Node element_id='4:71d9652d-6ac3-4744-9806-13e6489abd58:1' labels=frozenset({'service'}) properties={'name': 'Verkehrszählstellen_Hamburg', 'label': 'https://base-x-ecosystem.com/dlr-ki/', 'said': '40570d66060046e2660fe1390543b52619d1eba4e51d5967dd87a6ff33bd7c2d'}>>]\n",
      "[<Record n=<Node element_id='4:71d9652d-6ac3-4744-9806-13e6489abd58:2' labels=frozenset({'infrastructure'}) properties={'name': 'Verkehrszählstellen_Hamburg', 'label': 'https://base-x-ecosystem.com/dlr-ki/', 'said': '40570d66060046e2660fe1390543b52619d1eba4e51d5967dd87a6ff33bd7c2d'}>>]\n"
     ]
    }
   ],
   "source": [
    "# Types: 'dataset', 'service', 'infrastructure'\n",
    "response = add_node_if_not_exists(conn, label=input_yaml['id'], said=dataset_service_said, node_type='dataset', additional_properties={'name':input_yaml['name']})\n",
    "print(response)\n",
    "response = add_node_if_not_exists(conn, label=input_yaml['id'], said=dataset_service_said, node_type='service', additional_properties={'name':input_yaml['name']})\n",
    "print(response)\n",
    "response = add_node_if_not_exists(conn, label=input_yaml['id'], said=dataset_service_said, node_type='infrastructure', additional_properties={'name':input_yaml['name']})\n",
    "print(response)"
   ]
  },
  {
   "cell_type": "code",
   "execution_count": 38,
   "metadata": {},
   "outputs": [
    {
     "data": {
      "text/plain": [
       "{'n': <Node element_id='4:71d9652d-6ac3-4744-9806-13e6489abd58:0' labels=frozenset({'https://base-x-ecosystem.com/dlr-ki/'}) properties={'id': '40570d66060046e2660fe1390543b52619d1eba4e51d5967dd87a6ff33bd7c2d'}>}"
      ]
     },
     "execution_count": 38,
     "metadata": {},
     "output_type": "execute_result"
    }
   ],
   "source": [
    "dict(response[0])"
   ]
  },
  {
   "cell_type": "code",
   "execution_count": 35,
   "metadata": {},
   "outputs": [
    {
     "ename": "AttributeError",
     "evalue": "'list' object has no attribute 'data'",
     "output_type": "error",
     "traceback": [
      "\u001b[0;31m---------------------------------------------------------------------------\u001b[0m",
      "\u001b[0;31mAttributeError\u001b[0m                            Traceback (most recent call last)",
      "Cell \u001b[0;32mIn[35], line 1\u001b[0m\n\u001b[0;32m----> 1\u001b[0m \u001b[43mresponse\u001b[49m\u001b[38;5;241;43m.\u001b[39;49m\u001b[43mdata\u001b[49m()\n",
      "\u001b[0;31mAttributeError\u001b[0m: 'list' object has no attribute 'data'"
     ]
    }
   ],
   "source": [
    "response.data()"
   ]
  },
  {
   "cell_type": "code",
   "execution_count": 3,
   "metadata": {},
   "outputs": [],
   "source": [
    "from neo4j import GraphDatabase\n",
    "\n",
    "class GraphManager:\n",
    "    def __init__(self, uri, user, password):\n",
    "        self.driver = GraphDatabase.driver(uri, auth=(user, password))\n",
    "\n",
    "    def close(self):\n",
    "        self.driver.close()\n",
    "\n",
    "    def create_dataset_or_service(self, properties, overlays):\n",
    "        with self.driver.session() as session:\n",
    "            session.write_transaction(self._create_nodes_and_edges, properties, overlays)\n",
    "\n",
    "    @staticmethod\n",
    "    def _create_nodes_and_edges(tx, properties, overlays):\n",
    "        # Create the main dataset/service node\n",
    "        create_node_query = \"\"\"\n",
    "        CREATE (ds:DatasetService {props})\n",
    "        RETURN id(ds) AS nodeId\n",
    "        \"\"\"\n",
    "        main_node_id = tx.run(create_node_query, props=properties).single()[\"nodeId\"]\n",
    "\n",
    "        for overlay in overlays:\n",
    "            # Create overlay node\n",
    "            overlay_node_query = \"\"\"\n",
    "            CREATE (o:Overlay {props}) \n",
    "            RETURN id(o) AS overlayId\n",
    "            \"\"\"\n",
    "            overlay_props = {k: v for k, v in overlay.items() if k != \"range\" and k != \"description\"}\n",
    "            overlay_id = tx.run(overlay_node_query, props=overlay_props).single()[\"overlayId\"]\n",
    "\n",
    "            # Create edges\n",
    "            if \"range\" in overlay:\n",
    "                tx.run(\"MATCH (ds:DatasetService), (o:Overlay) WHERE id(ds) = $mainId AND id(o) = $overlayId \"\n",
    "                       \"CREATE (o)-[:RDFS_DATATYPE {range: $range}]->(ds)\", mainId=main_node_id, overlayId=overlay_id, range=overlay[\"range\"])\n",
    "\n",
    "            if \"description\" in overlay:\n",
    "                tx.run(\"MATCH (ds:DatasetService), (o:Overlay) WHERE id(ds) = $mainId AND id(o) = $overlayId \"\n",
    "                       \"CREATE (o)-[:RDFS_COMMENT {description: $description}]->(ds)\", mainId=main_node_id, overlayId=overlay_id, description=overlay[\"description\"])\n"
   ]
  },
  {
   "cell_type": "code",
   "execution_count": 5,
   "metadata": {},
   "outputs": [],
   "source": [
    "uri = \"bolt://localhost:7687\"\n",
    "user = \"neo4j\"\n",
    "password = \"mast#mast1\"\n",
    "\n",
    "graph_manager = GraphManager(uri, user, password)"
   ]
  },
  {
   "cell_type": "code",
   "execution_count": 6,
   "metadata": {},
   "outputs": [
    {
     "name": "stderr",
     "output_type": "stream",
     "text": [
      "/var/folders/m1/mg27xm293zg8r4pj5rd35m6r0000gn/T/ipykernel_35885/2772903352.py:12: DeprecationWarning: write_transaction has been renamed to execute_write\n",
      "  session.write_transaction(self._create_nodes_and_edges, properties, overlays)\n"
     ]
    },
    {
     "ename": "CypherSyntaxError",
     "evalue": "{code: Neo.ClientError.Statement.SyntaxError} {message: Invalid input '{': expected a parameter (line 2, column 27 (offset: 35))\n\"        CREATE (ds:DatasetService {props})\"\n                                   ^}",
     "output_type": "error",
     "traceback": [
      "\u001b[0;31m---------------------------------------------------------------------------\u001b[0m",
      "\u001b[0;31mCypherSyntaxError\u001b[0m                         Traceback (most recent call last)",
      "Cell \u001b[0;32mIn[6], line 16\u001b[0m\n\u001b[1;32m      1\u001b[0m properties \u001b[38;5;241m=\u001b[39m {\n\u001b[1;32m      2\u001b[0m     \u001b[38;5;124m\"\u001b[39m\u001b[38;5;124mProvider\u001b[39m\u001b[38;5;124m\"\u001b[39m: \u001b[38;5;124m\"\u001b[39m\u001b[38;5;124mProvider Name\u001b[39m\u001b[38;5;124m\"\u001b[39m,\n\u001b[1;32m      3\u001b[0m     \u001b[38;5;124m\"\u001b[39m\u001b[38;5;124mDatasetServiceName\u001b[39m\u001b[38;5;124m\"\u001b[39m: \u001b[38;5;124m\"\u001b[39m\u001b[38;5;124mDataset Name\u001b[39m\u001b[38;5;124m\"\u001b[39m,\n\u001b[1;32m      4\u001b[0m     \u001b[38;5;66;03m# Include other mandatory and optional properties here\u001b[39;00m\n\u001b[1;32m      5\u001b[0m }\n\u001b[1;32m      7\u001b[0m overlays \u001b[38;5;241m=\u001b[39m [\n\u001b[1;32m      8\u001b[0m     {\n\u001b[1;32m      9\u001b[0m         \u001b[38;5;124m\"\u001b[39m\u001b[38;5;124mrange\u001b[39m\u001b[38;5;124m\"\u001b[39m: \u001b[38;5;124m\"\u001b[39m\u001b[38;5;124mRange Value\u001b[39m\u001b[38;5;124m\"\u001b[39m,\n\u001b[0;32m   (...)\u001b[0m\n\u001b[1;32m     13\u001b[0m     \u001b[38;5;66;03m# More overlays can be added here\u001b[39;00m\n\u001b[1;32m     14\u001b[0m ]\n\u001b[0;32m---> 16\u001b[0m \u001b[43mgraph_manager\u001b[49m\u001b[38;5;241;43m.\u001b[39;49m\u001b[43mcreate_dataset_or_service\u001b[49m\u001b[43m(\u001b[49m\u001b[43mproperties\u001b[49m\u001b[43m,\u001b[49m\u001b[43m \u001b[49m\u001b[43moverlays\u001b[49m\u001b[43m)\u001b[49m\n\u001b[1;32m     17\u001b[0m graph_manager\u001b[38;5;241m.\u001b[39mclose()\n",
      "Cell \u001b[0;32mIn[3], line 12\u001b[0m, in \u001b[0;36mGraphManager.create_dataset_or_service\u001b[0;34m(self, properties, overlays)\u001b[0m\n\u001b[1;32m     10\u001b[0m \u001b[38;5;28;01mdef\u001b[39;00m \u001b[38;5;21mcreate_dataset_or_service\u001b[39m(\u001b[38;5;28mself\u001b[39m, properties, overlays):\n\u001b[1;32m     11\u001b[0m     \u001b[38;5;28;01mwith\u001b[39;00m \u001b[38;5;28mself\u001b[39m\u001b[38;5;241m.\u001b[39mdriver\u001b[38;5;241m.\u001b[39msession() \u001b[38;5;28;01mas\u001b[39;00m session:\n\u001b[0;32m---> 12\u001b[0m         \u001b[43msession\u001b[49m\u001b[38;5;241;43m.\u001b[39;49m\u001b[43mwrite_transaction\u001b[49m\u001b[43m(\u001b[49m\u001b[38;5;28;43mself\u001b[39;49m\u001b[38;5;241;43m.\u001b[39;49m\u001b[43m_create_nodes_and_edges\u001b[49m\u001b[43m,\u001b[49m\u001b[43m \u001b[49m\u001b[43mproperties\u001b[49m\u001b[43m,\u001b[49m\u001b[43m \u001b[49m\u001b[43moverlays\u001b[49m\u001b[43m)\u001b[49m\n",
      "File \u001b[0;32m~/code/DLR/GX4FM-Base-X/SemanticDataLink/venv/lib/python3.11/site-packages/neo4j/_meta.py:219\u001b[0m, in \u001b[0;36m_make_warning_decorator.<locals>.decorator.<locals>.inner\u001b[0;34m(*args, **kwargs)\u001b[0m\n\u001b[1;32m    216\u001b[0m \u001b[38;5;129m@wraps\u001b[39m(f)\n\u001b[1;32m    217\u001b[0m \u001b[38;5;28;01mdef\u001b[39;00m \u001b[38;5;21minner\u001b[39m(\u001b[38;5;241m*\u001b[39margs, \u001b[38;5;241m*\u001b[39m\u001b[38;5;241m*\u001b[39mkwargs):\n\u001b[1;32m    218\u001b[0m     warning_func(message, stack_level\u001b[38;5;241m=\u001b[39m\u001b[38;5;241m2\u001b[39m)\n\u001b[0;32m--> 219\u001b[0m     \u001b[38;5;28;01mreturn\u001b[39;00m \u001b[43mf\u001b[49m\u001b[43m(\u001b[49m\u001b[38;5;241;43m*\u001b[39;49m\u001b[43margs\u001b[49m\u001b[43m,\u001b[49m\u001b[43m \u001b[49m\u001b[38;5;241;43m*\u001b[39;49m\u001b[38;5;241;43m*\u001b[39;49m\u001b[43mkwargs\u001b[49m\u001b[43m)\u001b[49m\n",
      "File \u001b[0;32m~/code/DLR/GX4FM-Base-X/SemanticDataLink/venv/lib/python3.11/site-packages/neo4j/_sync/work/session.py:797\u001b[0m, in \u001b[0;36mSession.write_transaction\u001b[0;34m(self, transaction_function, *args, **kwargs)\u001b[0m\n\u001b[1;32m    763\u001b[0m \u001b[38;5;129m@deprecated\u001b[39m(\u001b[38;5;124m\"\u001b[39m\u001b[38;5;124mwrite_transaction has been renamed to execute_write\u001b[39m\u001b[38;5;124m\"\u001b[39m)\n\u001b[1;32m    764\u001b[0m \u001b[38;5;129m@NonConcurrentMethodChecker\u001b[39m\u001b[38;5;241m.\u001b[39mnon_concurrent_method\n\u001b[1;32m    765\u001b[0m \u001b[38;5;28;01mdef\u001b[39;00m \u001b[38;5;21mwrite_transaction\u001b[39m(\n\u001b[0;32m   (...)\u001b[0m\n\u001b[1;32m    770\u001b[0m     \u001b[38;5;241m*\u001b[39margs: _P\u001b[38;5;241m.\u001b[39margs,  \u001b[38;5;241m*\u001b[39m\u001b[38;5;241m*\u001b[39mkwargs: _P\u001b[38;5;241m.\u001b[39mkwargs\n\u001b[1;32m    771\u001b[0m ) \u001b[38;5;241m-\u001b[39m\u001b[38;5;241m>\u001b[39m _R:\n\u001b[1;32m    772\u001b[0m \u001b[38;5;250m    \u001b[39m\u001b[38;5;124;03m\"\"\"Execute a unit of work in a managed write transaction.\u001b[39;00m\n\u001b[1;32m    773\u001b[0m \n\u001b[1;32m    774\u001b[0m \u001b[38;5;124;03m    .. note::\u001b[39;00m\n\u001b[0;32m   (...)\u001b[0m\n\u001b[1;32m    795\u001b[0m \u001b[38;5;124;03m        Method was renamed to :meth:`.execute_write`.\u001b[39;00m\n\u001b[1;32m    796\u001b[0m \u001b[38;5;124;03m    \"\"\"\u001b[39;00m\n\u001b[0;32m--> 797\u001b[0m     \u001b[38;5;28;01mreturn\u001b[39;00m \u001b[38;5;28;43mself\u001b[39;49m\u001b[38;5;241;43m.\u001b[39;49m\u001b[43m_run_transaction\u001b[49m\u001b[43m(\u001b[49m\n\u001b[1;32m    798\u001b[0m \u001b[43m        \u001b[49m\u001b[43mWRITE_ACCESS\u001b[49m\u001b[43m,\u001b[49m\u001b[43m \u001b[49m\u001b[43mTelemetryAPI\u001b[49m\u001b[38;5;241;43m.\u001b[39;49m\u001b[43mTX_FUNC\u001b[49m\u001b[43m,\u001b[49m\n\u001b[1;32m    799\u001b[0m \u001b[43m        \u001b[49m\u001b[43mtransaction_function\u001b[49m\u001b[43m,\u001b[49m\u001b[43m \u001b[49m\u001b[43margs\u001b[49m\u001b[43m,\u001b[49m\u001b[43m \u001b[49m\u001b[43mkwargs\u001b[49m\n\u001b[1;32m    800\u001b[0m \u001b[43m    \u001b[49m\u001b[43m)\u001b[49m\n",
      "File \u001b[0;32m~/code/DLR/GX4FM-Base-X/SemanticDataLink/venv/lib/python3.11/site-packages/neo4j/_sync/work/session.py:552\u001b[0m, in \u001b[0;36mSession._run_transaction\u001b[0;34m(self, access_mode, api, transaction_function, args, kwargs)\u001b[0m\n\u001b[1;32m    550\u001b[0m tx \u001b[38;5;241m=\u001b[39m \u001b[38;5;28mself\u001b[39m\u001b[38;5;241m.\u001b[39m_transaction\n\u001b[1;32m    551\u001b[0m \u001b[38;5;28;01mtry\u001b[39;00m:\n\u001b[0;32m--> 552\u001b[0m     result \u001b[38;5;241m=\u001b[39m \u001b[43mtransaction_function\u001b[49m\u001b[43m(\u001b[49m\u001b[43mtx\u001b[49m\u001b[43m,\u001b[49m\u001b[43m \u001b[49m\u001b[38;5;241;43m*\u001b[39;49m\u001b[43margs\u001b[49m\u001b[43m,\u001b[49m\u001b[43m \u001b[49m\u001b[38;5;241;43m*\u001b[39;49m\u001b[38;5;241;43m*\u001b[39;49m\u001b[43mkwargs\u001b[49m\u001b[43m)\u001b[49m\n\u001b[1;32m    553\u001b[0m \u001b[38;5;28;01mexcept\u001b[39;00m asyncio\u001b[38;5;241m.\u001b[39mCancelledError:\n\u001b[1;32m    554\u001b[0m     \u001b[38;5;66;03m# if cancellation callback has not been called yet:\u001b[39;00m\n\u001b[1;32m    555\u001b[0m     \u001b[38;5;28;01mif\u001b[39;00m \u001b[38;5;28mself\u001b[39m\u001b[38;5;241m.\u001b[39m_transaction \u001b[38;5;129;01mis\u001b[39;00m \u001b[38;5;129;01mnot\u001b[39;00m \u001b[38;5;28;01mNone\u001b[39;00m:\n",
      "Cell \u001b[0;32mIn[3], line 21\u001b[0m, in \u001b[0;36mGraphManager._create_nodes_and_edges\u001b[0;34m(tx, properties, overlays)\u001b[0m\n\u001b[1;32m     14\u001b[0m \u001b[38;5;129m@staticmethod\u001b[39m\n\u001b[1;32m     15\u001b[0m \u001b[38;5;28;01mdef\u001b[39;00m \u001b[38;5;21m_create_nodes_and_edges\u001b[39m(tx, properties, overlays):\n\u001b[1;32m     16\u001b[0m     \u001b[38;5;66;03m# Create the main dataset/service node\u001b[39;00m\n\u001b[1;32m     17\u001b[0m     create_node_query \u001b[38;5;241m=\u001b[39m \u001b[38;5;124m\"\"\"\u001b[39m\n\u001b[1;32m     18\u001b[0m \u001b[38;5;124m    CREATE (ds:DatasetService \u001b[39m\u001b[38;5;132;01m{props}\u001b[39;00m\u001b[38;5;124m)\u001b[39m\n\u001b[1;32m     19\u001b[0m \u001b[38;5;124m    RETURN id(ds) AS nodeId\u001b[39m\n\u001b[1;32m     20\u001b[0m \u001b[38;5;124m    \u001b[39m\u001b[38;5;124m\"\"\"\u001b[39m\n\u001b[0;32m---> 21\u001b[0m     main_node_id \u001b[38;5;241m=\u001b[39m \u001b[43mtx\u001b[49m\u001b[38;5;241;43m.\u001b[39;49m\u001b[43mrun\u001b[49m\u001b[43m(\u001b[49m\u001b[43mcreate_node_query\u001b[49m\u001b[43m,\u001b[49m\u001b[43m \u001b[49m\u001b[43mprops\u001b[49m\u001b[38;5;241;43m=\u001b[39;49m\u001b[43mproperties\u001b[49m\u001b[43m)\u001b[49m\u001b[38;5;241m.\u001b[39msingle()[\u001b[38;5;124m\"\u001b[39m\u001b[38;5;124mnodeId\u001b[39m\u001b[38;5;124m\"\u001b[39m]\n\u001b[1;32m     23\u001b[0m     \u001b[38;5;28;01mfor\u001b[39;00m overlay \u001b[38;5;129;01min\u001b[39;00m overlays:\n\u001b[1;32m     24\u001b[0m         \u001b[38;5;66;03m# Create overlay node\u001b[39;00m\n\u001b[1;32m     25\u001b[0m         overlay_node_query \u001b[38;5;241m=\u001b[39m \u001b[38;5;124m\"\"\"\u001b[39m\n\u001b[1;32m     26\u001b[0m \u001b[38;5;124m        CREATE (o:Overlay \u001b[39m\u001b[38;5;132;01m{props}\u001b[39;00m\u001b[38;5;124m) \u001b[39m\n\u001b[1;32m     27\u001b[0m \u001b[38;5;124m        RETURN id(o) AS overlayId\u001b[39m\n\u001b[1;32m     28\u001b[0m \u001b[38;5;124m        \u001b[39m\u001b[38;5;124m\"\"\"\u001b[39m\n",
      "File \u001b[0;32m~/code/DLR/GX4FM-Base-X/SemanticDataLink/venv/lib/python3.11/site-packages/neo4j/_sync/work/transaction.py:169\u001b[0m, in \u001b[0;36mTransactionBase.run\u001b[0;34m(self, query, parameters, **kwparameters)\u001b[0m\n\u001b[1;32m    166\u001b[0m \u001b[38;5;28mself\u001b[39m\u001b[38;5;241m.\u001b[39m_results\u001b[38;5;241m.\u001b[39mappend(result)\n\u001b[1;32m    168\u001b[0m parameters \u001b[38;5;241m=\u001b[39m \u001b[38;5;28mdict\u001b[39m(parameters \u001b[38;5;129;01mor\u001b[39;00m {}, \u001b[38;5;241m*\u001b[39m\u001b[38;5;241m*\u001b[39mkwparameters)\n\u001b[0;32m--> 169\u001b[0m \u001b[43mresult\u001b[49m\u001b[38;5;241;43m.\u001b[39;49m\u001b[43m_tx_ready_run\u001b[49m\u001b[43m(\u001b[49m\u001b[43mquery\u001b[49m\u001b[43m,\u001b[49m\u001b[43m \u001b[49m\u001b[43mparameters\u001b[49m\u001b[43m)\u001b[49m\n\u001b[1;32m    171\u001b[0m \u001b[38;5;28;01mreturn\u001b[39;00m result\n",
      "File \u001b[0;32m~/code/DLR/GX4FM-Base-X/SemanticDataLink/venv/lib/python3.11/site-packages/neo4j/_sync/work/result.py:131\u001b[0m, in \u001b[0;36mResult._tx_ready_run\u001b[0;34m(self, query, parameters)\u001b[0m\n\u001b[1;32m    127\u001b[0m \u001b[38;5;28;01mdef\u001b[39;00m \u001b[38;5;21m_tx_ready_run\u001b[39m(\u001b[38;5;28mself\u001b[39m, query, parameters):\n\u001b[1;32m    128\u001b[0m     \u001b[38;5;66;03m# BEGIN+RUN does not carry any extra on the RUN message.\u001b[39;00m\n\u001b[1;32m    129\u001b[0m     \u001b[38;5;66;03m# BEGIN {extra}\u001b[39;00m\n\u001b[1;32m    130\u001b[0m     \u001b[38;5;66;03m# RUN \"query\" {parameters} {extra}\u001b[39;00m\n\u001b[0;32m--> 131\u001b[0m     \u001b[38;5;28;43mself\u001b[39;49m\u001b[38;5;241;43m.\u001b[39;49m\u001b[43m_run\u001b[49m\u001b[43m(\u001b[49m\u001b[43mquery\u001b[49m\u001b[43m,\u001b[49m\u001b[43m \u001b[49m\u001b[43mparameters\u001b[49m\u001b[43m,\u001b[49m\u001b[43m \u001b[49m\u001b[38;5;28;43;01mNone\u001b[39;49;00m\u001b[43m,\u001b[49m\u001b[43m \u001b[49m\u001b[38;5;28;43;01mNone\u001b[39;49;00m\u001b[43m,\u001b[49m\u001b[43m \u001b[49m\u001b[38;5;28;43;01mNone\u001b[39;49;00m\u001b[43m,\u001b[49m\u001b[43m \u001b[49m\u001b[38;5;28;43;01mNone\u001b[39;49;00m\u001b[43m,\u001b[49m\u001b[43m \u001b[49m\u001b[38;5;28;43;01mNone\u001b[39;49;00m\u001b[43m,\u001b[49m\u001b[43m \u001b[49m\u001b[38;5;28;43;01mNone\u001b[39;49;00m\u001b[43m)\u001b[49m\n",
      "File \u001b[0;32m~/code/DLR/GX4FM-Base-X/SemanticDataLink/venv/lib/python3.11/site-packages/neo4j/_sync/work/result.py:181\u001b[0m, in \u001b[0;36mResult._run\u001b[0;34m(self, query, parameters, db, imp_user, access_mode, bookmarks, notifications_min_severity, notifications_disabled_categories)\u001b[0m\n\u001b[1;32m    179\u001b[0m \u001b[38;5;28mself\u001b[39m\u001b[38;5;241m.\u001b[39m_pull()\n\u001b[1;32m    180\u001b[0m \u001b[38;5;28mself\u001b[39m\u001b[38;5;241m.\u001b[39m_connection\u001b[38;5;241m.\u001b[39msend_all()\n\u001b[0;32m--> 181\u001b[0m \u001b[38;5;28;43mself\u001b[39;49m\u001b[38;5;241;43m.\u001b[39;49m\u001b[43m_attach\u001b[49m\u001b[43m(\u001b[49m\u001b[43m)\u001b[49m\n",
      "File \u001b[0;32m~/code/DLR/GX4FM-Base-X/SemanticDataLink/venv/lib/python3.11/site-packages/neo4j/_sync/work/result.py:301\u001b[0m, in \u001b[0;36mResult._attach\u001b[0;34m(self)\u001b[0m\n\u001b[1;32m    299\u001b[0m \u001b[38;5;28;01mif\u001b[39;00m \u001b[38;5;28mself\u001b[39m\u001b[38;5;241m.\u001b[39m_exhausted \u001b[38;5;129;01mis\u001b[39;00m \u001b[38;5;28;01mFalse\u001b[39;00m:\n\u001b[1;32m    300\u001b[0m     \u001b[38;5;28;01mwhile\u001b[39;00m \u001b[38;5;28mself\u001b[39m\u001b[38;5;241m.\u001b[39m_attached \u001b[38;5;129;01mis\u001b[39;00m \u001b[38;5;28;01mFalse\u001b[39;00m:\n\u001b[0;32m--> 301\u001b[0m         \u001b[38;5;28;43mself\u001b[39;49m\u001b[38;5;241;43m.\u001b[39;49m\u001b[43m_connection\u001b[49m\u001b[38;5;241;43m.\u001b[39;49m\u001b[43mfetch_message\u001b[49m\u001b[43m(\u001b[49m\u001b[43m)\u001b[49m\n",
      "File \u001b[0;32m~/code/DLR/GX4FM-Base-X/SemanticDataLink/venv/lib/python3.11/site-packages/neo4j/_sync/io/_common.py:178\u001b[0m, in \u001b[0;36mConnectionErrorHandler.__getattr__.<locals>.outer.<locals>.inner\u001b[0;34m(*args, **kwargs)\u001b[0m\n\u001b[1;32m    176\u001b[0m \u001b[38;5;28;01mdef\u001b[39;00m \u001b[38;5;21minner\u001b[39m(\u001b[38;5;241m*\u001b[39margs, \u001b[38;5;241m*\u001b[39m\u001b[38;5;241m*\u001b[39mkwargs):\n\u001b[1;32m    177\u001b[0m     \u001b[38;5;28;01mtry\u001b[39;00m:\n\u001b[0;32m--> 178\u001b[0m         \u001b[43mfunc\u001b[49m\u001b[43m(\u001b[49m\u001b[38;5;241;43m*\u001b[39;49m\u001b[43margs\u001b[49m\u001b[43m,\u001b[49m\u001b[43m \u001b[49m\u001b[38;5;241;43m*\u001b[39;49m\u001b[38;5;241;43m*\u001b[39;49m\u001b[43mkwargs\u001b[49m\u001b[43m)\u001b[49m\n\u001b[1;32m    179\u001b[0m     \u001b[38;5;28;01mexcept\u001b[39;00m (Neo4jError, ServiceUnavailable, SessionExpired) \u001b[38;5;28;01mas\u001b[39;00m exc:\n\u001b[1;32m    180\u001b[0m         \u001b[38;5;28;01massert\u001b[39;00m \u001b[38;5;129;01mnot\u001b[39;00m asyncio\u001b[38;5;241m.\u001b[39miscoroutinefunction(\u001b[38;5;28mself\u001b[39m\u001b[38;5;241m.\u001b[39m__on_error)\n",
      "File \u001b[0;32m~/code/DLR/GX4FM-Base-X/SemanticDataLink/venv/lib/python3.11/site-packages/neo4j/_sync/io/_bolt.py:849\u001b[0m, in \u001b[0;36mBolt.fetch_message\u001b[0;34m(self)\u001b[0m\n\u001b[1;32m    845\u001b[0m \u001b[38;5;66;03m# Receive exactly one message\u001b[39;00m\n\u001b[1;32m    846\u001b[0m tag, fields \u001b[38;5;241m=\u001b[39m \u001b[38;5;28mself\u001b[39m\u001b[38;5;241m.\u001b[39minbox\u001b[38;5;241m.\u001b[39mpop(\n\u001b[1;32m    847\u001b[0m     hydration_hooks\u001b[38;5;241m=\u001b[39m\u001b[38;5;28mself\u001b[39m\u001b[38;5;241m.\u001b[39mresponses[\u001b[38;5;241m0\u001b[39m]\u001b[38;5;241m.\u001b[39mhydration_hooks\n\u001b[1;32m    848\u001b[0m )\n\u001b[0;32m--> 849\u001b[0m res \u001b[38;5;241m=\u001b[39m \u001b[38;5;28;43mself\u001b[39;49m\u001b[38;5;241;43m.\u001b[39;49m\u001b[43m_process_message\u001b[49m\u001b[43m(\u001b[49m\u001b[43mtag\u001b[49m\u001b[43m,\u001b[49m\u001b[43m \u001b[49m\u001b[43mfields\u001b[49m\u001b[43m)\u001b[49m\n\u001b[1;32m    850\u001b[0m \u001b[38;5;28mself\u001b[39m\u001b[38;5;241m.\u001b[39midle_since \u001b[38;5;241m=\u001b[39m monotonic()\n\u001b[1;32m    851\u001b[0m \u001b[38;5;28;01mreturn\u001b[39;00m res\n",
      "File \u001b[0;32m~/code/DLR/GX4FM-Base-X/SemanticDataLink/venv/lib/python3.11/site-packages/neo4j/_sync/io/_bolt5.py:369\u001b[0m, in \u001b[0;36mBolt5x0._process_message\u001b[0;34m(self, tag, fields)\u001b[0m\n\u001b[1;32m    367\u001b[0m \u001b[38;5;28mself\u001b[39m\u001b[38;5;241m.\u001b[39m_server_state_manager\u001b[38;5;241m.\u001b[39mstate \u001b[38;5;241m=\u001b[39m \u001b[38;5;28mself\u001b[39m\u001b[38;5;241m.\u001b[39mbolt_states\u001b[38;5;241m.\u001b[39mFAILED\n\u001b[1;32m    368\u001b[0m \u001b[38;5;28;01mtry\u001b[39;00m:\n\u001b[0;32m--> 369\u001b[0m     \u001b[43mresponse\u001b[49m\u001b[38;5;241;43m.\u001b[39;49m\u001b[43mon_failure\u001b[49m\u001b[43m(\u001b[49m\u001b[43msummary_metadata\u001b[49m\u001b[43m \u001b[49m\u001b[38;5;129;43;01mor\u001b[39;49;00m\u001b[43m \u001b[49m\u001b[43m{\u001b[49m\u001b[43m}\u001b[49m\u001b[43m)\u001b[49m\n\u001b[1;32m    370\u001b[0m \u001b[38;5;28;01mexcept\u001b[39;00m (ServiceUnavailable, DatabaseUnavailable):\n\u001b[1;32m    371\u001b[0m     \u001b[38;5;28;01mif\u001b[39;00m \u001b[38;5;28mself\u001b[39m\u001b[38;5;241m.\u001b[39mpool:\n",
      "File \u001b[0;32m~/code/DLR/GX4FM-Base-X/SemanticDataLink/venv/lib/python3.11/site-packages/neo4j/_sync/io/_common.py:245\u001b[0m, in \u001b[0;36mResponse.on_failure\u001b[0;34m(self, metadata)\u001b[0m\n\u001b[1;32m    243\u001b[0m handler \u001b[38;5;241m=\u001b[39m \u001b[38;5;28mself\u001b[39m\u001b[38;5;241m.\u001b[39mhandlers\u001b[38;5;241m.\u001b[39mget(\u001b[38;5;124m\"\u001b[39m\u001b[38;5;124mon_summary\u001b[39m\u001b[38;5;124m\"\u001b[39m)\n\u001b[1;32m    244\u001b[0m Util\u001b[38;5;241m.\u001b[39mcallback(handler)\n\u001b[0;32m--> 245\u001b[0m \u001b[38;5;28;01mraise\u001b[39;00m Neo4jError\u001b[38;5;241m.\u001b[39mhydrate(\u001b[38;5;241m*\u001b[39m\u001b[38;5;241m*\u001b[39mmetadata)\n",
      "\u001b[0;31mCypherSyntaxError\u001b[0m: {code: Neo.ClientError.Statement.SyntaxError} {message: Invalid input '{': expected a parameter (line 2, column 27 (offset: 35))\n\"        CREATE (ds:DatasetService {props})\"\n                                   ^}"
     ]
    }
   ],
   "source": [
    "properties = {\n",
    "    \"Provider\": \"Provider Name\",\n",
    "    \"DatasetServiceName\": \"Dataset Name\",\n",
    "    # Include other mandatory and optional properties here\n",
    "}\n",
    "\n",
    "overlays = [\n",
    "    {\n",
    "        \"range\": \"Range Value\",\n",
    "        \"description\": \"Description Value\",\n",
    "        # Include other optional overlay properties here\n",
    "    },\n",
    "    # More overlays can be added here\n",
    "]\n",
    "\n",
    "graph_manager.create_dataset_or_service(properties, overlays)\n",
    "graph_manager.close()"
   ]
  },
  {
   "cell_type": "code",
   "execution_count": null,
   "metadata": {},
   "outputs": [],
   "source": []
  }
 ],
 "metadata": {
  "kernelspec": {
   "display_name": "venv",
   "language": "python",
   "name": "python3"
  },
  "language_info": {
   "codemirror_mode": {
    "name": "ipython",
    "version": 3
   },
   "file_extension": ".py",
   "mimetype": "text/x-python",
   "name": "python",
   "nbconvert_exporter": "python",
   "pygments_lexer": "ipython3",
   "version": "3.11.5"
  }
 },
 "nbformat": 4,
 "nbformat_minor": 2
}
